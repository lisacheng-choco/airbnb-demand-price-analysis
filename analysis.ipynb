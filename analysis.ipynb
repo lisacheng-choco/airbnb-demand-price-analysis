{
 "cells": [
  {
   "cell_type": "code",
   "execution_count": 4,
   "metadata": {},
   "outputs": [
    {
     "name": "stderr",
     "output_type": "stream",
     "text": [
      "Matplotlib is building the font cache; this may take a moment.\n"
     ]
    }
   ],
   "source": [
    "import warnings\n",
    "warnings.filterwarnings('ignore')\n",
    "import numpy as np\n",
    "import pandas as pd\n",
    "import os\n",
    "import matplotlib.pylab as plt"
   ]
  },
  {
   "cell_type": "code",
   "execution_count": 5,
   "metadata": {},
   "outputs": [],
   "source": [
    "def load_data(file_path, index_name):\n",
    "    data = pd.read_csv(file_path, engine='python', encoding='utf-8')\n",
    "    return data#data.set_index(index_name)\n",
    "def print_dataset_info(dataset, key_name):\n",
    "    print('%s rows of data, %s columns' % (dataset.shape[0], dataset.shape[1]) )\n",
    "    print(dataset.columns)\n",
    "    print('%s unique %s in the data.' % (dataset[key_name].nunique(), key_name))"
   ]
  },
  {
   "cell_type": "markdown",
   "metadata": {},
   "source": [
    "### 1. Load Dataset"
   ]
  },
  {
   "cell_type": "code",
   "execution_count": 6,
   "metadata": {},
   "outputs": [],
   "source": [
    "data_listings = load_data('dataset/listings.csv', '')\n",
    "data_calendar_2020 = load_data('dataset/calendar.csv', '')\n",
    "#data_calendar_2019 = load_data('dataset/calendar_2019.csv', '')\n",
    "data_reviews = load_data('dataset/reviews.csv', '')"
   ]
  },
  {
   "cell_type": "markdown",
   "metadata": {},
   "source": [
    "### 2. Dataset Exploration"
   ]
  },
  {
   "cell_type": "code",
   "execution_count": 7,
   "metadata": {},
   "outputs": [
    {
     "name": "stdout",
     "output_type": "stream",
     "text": [
      "8103 rows of data, 106 columns\n",
      "Index(['id', 'listing_url', 'scrape_id', 'last_scraped', 'name', 'summary',\n",
      "       'space', 'description', 'experiences_offered', 'neighborhood_overview',\n",
      "       ...\n",
      "       'instant_bookable', 'is_business_travel_ready', 'cancellation_policy',\n",
      "       'require_guest_profile_picture', 'require_guest_phone_verification',\n",
      "       'calculated_host_listings_count',\n",
      "       'calculated_host_listings_count_entire_homes',\n",
      "       'calculated_host_listings_count_private_rooms',\n",
      "       'calculated_host_listings_count_shared_rooms', 'reviews_per_month'],\n",
      "      dtype='object', length=106)\n",
      "8103 unique id in the data.\n"
     ]
    },
    {
     "data": {
      "text/html": [
       "<div>\n",
       "<style scoped>\n",
       "    .dataframe tbody tr th:only-of-type {\n",
       "        vertical-align: middle;\n",
       "    }\n",
       "\n",
       "    .dataframe tbody tr th {\n",
       "        vertical-align: top;\n",
       "    }\n",
       "\n",
       "    .dataframe thead th {\n",
       "        text-align: right;\n",
       "    }\n",
       "</style>\n",
       "<table border=\"1\" class=\"dataframe\">\n",
       "  <thead>\n",
       "    <tr style=\"text-align: right;\">\n",
       "      <th></th>\n",
       "      <th>id</th>\n",
       "      <th>listing_url</th>\n",
       "      <th>scrape_id</th>\n",
       "      <th>last_scraped</th>\n",
       "      <th>name</th>\n",
       "      <th>summary</th>\n",
       "      <th>space</th>\n",
       "      <th>description</th>\n",
       "      <th>experiences_offered</th>\n",
       "      <th>neighborhood_overview</th>\n",
       "      <th>...</th>\n",
       "      <th>instant_bookable</th>\n",
       "      <th>is_business_travel_ready</th>\n",
       "      <th>cancellation_policy</th>\n",
       "      <th>require_guest_profile_picture</th>\n",
       "      <th>require_guest_phone_verification</th>\n",
       "      <th>calculated_host_listings_count</th>\n",
       "      <th>calculated_host_listings_count_entire_homes</th>\n",
       "      <th>calculated_host_listings_count_private_rooms</th>\n",
       "      <th>calculated_host_listings_count_shared_rooms</th>\n",
       "      <th>reviews_per_month</th>\n",
       "    </tr>\n",
       "  </thead>\n",
       "  <tbody>\n",
       "    <tr>\n",
       "      <th>0</th>\n",
       "      <td>74641</td>\n",
       "      <td>https://www.airbnb.com/rooms/74641</td>\n",
       "      <td>20200629042806</td>\n",
       "      <td>2020-06-30</td>\n",
       "      <td>黑白雙人房@南京復興站｡小巨蛋斜對面｡溫泉式浴缸｡</td>\n",
       "      <td>私人衛浴大套房,距南京復興站走路2分鐘｡面對7-11便利商店,旁邊就是南京微風百貨和IKEA...</td>\n",
       "      <td>你的套房裡有清爽安靜的空間,舒服的衛浴設備,無線網路Wi-fi,旅行需要洗衣服也沒問題,有洗...</td>\n",
       "      <td>私人衛浴大套房,距南京復興站走路2分鐘｡面對7-11便利商店,旁邊就是南京微風百貨和IKEA...</td>\n",
       "      <td>none</td>\n",
       "      <td>This area is what we called Business &amp; Residen...</td>\n",
       "      <td>...</td>\n",
       "      <td>f</td>\n",
       "      <td>f</td>\n",
       "      <td>strict_14_with_grace_period</td>\n",
       "      <td>f</td>\n",
       "      <td>f</td>\n",
       "      <td>4</td>\n",
       "      <td>0</td>\n",
       "      <td>4</td>\n",
       "      <td>0</td>\n",
       "      <td>0.47</td>\n",
       "    </tr>\n",
       "    <tr>\n",
       "      <th>1</th>\n",
       "      <td>74643</td>\n",
       "      <td>https://www.airbnb.com/rooms/74643</td>\n",
       "      <td>20200629042806</td>\n",
       "      <td>2020-06-30</td>\n",
       "      <td>小巨蛋｡南京復興站溫馨套房</td>\n",
       "      <td>小巨蛋對面,距南京復興站走路2分鐘｡面對7-11便利商店,旁邊就是南京微風百貨;私人衛浴套房...</td>\n",
       "      <td>歡迎來台北,我們的小提琴工作室就在一旁,如果有興趣,我們很樂意和客人互動! 你的套房裡有清爽...</td>\n",
       "      <td>小巨蛋對面,距南京復興站走路2分鐘｡面對7-11便利商店,旁邊就是南京微風百貨;私人衛浴套房...</td>\n",
       "      <td>none</td>\n",
       "      <td>微風南京,台北小巨蛋｡ 南京復興捷運站,兄弟飯店,文華飯店｡</td>\n",
       "      <td>...</td>\n",
       "      <td>f</td>\n",
       "      <td>f</td>\n",
       "      <td>strict_14_with_grace_period</td>\n",
       "      <td>f</td>\n",
       "      <td>f</td>\n",
       "      <td>4</td>\n",
       "      <td>0</td>\n",
       "      <td>4</td>\n",
       "      <td>0</td>\n",
       "      <td>0.46</td>\n",
       "    </tr>\n",
       "  </tbody>\n",
       "</table>\n",
       "<p>2 rows × 106 columns</p>\n",
       "</div>"
      ],
      "text/plain": [
       "      id                         listing_url       scrape_id last_scraped  \\\n",
       "0  74641  https://www.airbnb.com/rooms/74641  20200629042806   2020-06-30   \n",
       "1  74643  https://www.airbnb.com/rooms/74643  20200629042806   2020-06-30   \n",
       "\n",
       "                        name  \\\n",
       "0  黑白雙人房@南京復興站｡小巨蛋斜對面｡溫泉式浴缸｡   \n",
       "1              小巨蛋｡南京復興站溫馨套房   \n",
       "\n",
       "                                             summary  \\\n",
       "0  私人衛浴大套房,距南京復興站走路2分鐘｡面對7-11便利商店,旁邊就是南京微風百貨和IKEA...   \n",
       "1  小巨蛋對面,距南京復興站走路2分鐘｡面對7-11便利商店,旁邊就是南京微風百貨;私人衛浴套房...   \n",
       "\n",
       "                                               space  \\\n",
       "0  你的套房裡有清爽安靜的空間,舒服的衛浴設備,無線網路Wi-fi,旅行需要洗衣服也沒問題,有洗...   \n",
       "1  歡迎來台北,我們的小提琴工作室就在一旁,如果有興趣,我們很樂意和客人互動! 你的套房裡有清爽...   \n",
       "\n",
       "                                         description experiences_offered  \\\n",
       "0  私人衛浴大套房,距南京復興站走路2分鐘｡面對7-11便利商店,旁邊就是南京微風百貨和IKEA...                none   \n",
       "1  小巨蛋對面,距南京復興站走路2分鐘｡面對7-11便利商店,旁邊就是南京微風百貨;私人衛浴套房...                none   \n",
       "\n",
       "                               neighborhood_overview  ... instant_bookable  \\\n",
       "0  This area is what we called Business & Residen...  ...                f   \n",
       "1                     微風南京,台北小巨蛋｡ 南京復興捷運站,兄弟飯店,文華飯店｡  ...                f   \n",
       "\n",
       "  is_business_travel_ready          cancellation_policy  \\\n",
       "0                        f  strict_14_with_grace_period   \n",
       "1                        f  strict_14_with_grace_period   \n",
       "\n",
       "  require_guest_profile_picture require_guest_phone_verification  \\\n",
       "0                             f                                f   \n",
       "1                             f                                f   \n",
       "\n",
       "   calculated_host_listings_count  \\\n",
       "0                               4   \n",
       "1                               4   \n",
       "\n",
       "   calculated_host_listings_count_entire_homes  \\\n",
       "0                                            0   \n",
       "1                                            0   \n",
       "\n",
       "  calculated_host_listings_count_private_rooms  \\\n",
       "0                                            4   \n",
       "1                                            4   \n",
       "\n",
       "   calculated_host_listings_count_shared_rooms  reviews_per_month  \n",
       "0                                            0               0.47  \n",
       "1                                            0               0.46  \n",
       "\n",
       "[2 rows x 106 columns]"
      ]
     },
     "execution_count": 7,
     "metadata": {},
     "output_type": "execute_result"
    }
   ],
   "source": [
    "# data_listings\n",
    "print_dataset_info(data_listings, 'id')\n",
    "data_listings.head(2)"
   ]
  },
  {
   "cell_type": "code",
   "execution_count": 8,
   "metadata": {},
   "outputs": [
    {
     "name": "stdout",
     "output_type": "stream",
     "text": [
      "270244 rows of data, 6 columns\n",
      "Index(['listing_id', 'id', 'date', 'reviewer_id', 'reviewer_name', 'comments'], dtype='object')\n",
      "6308 unique listing_id in the data.\n"
     ]
    },
    {
     "data": {
      "text/html": [
       "<div>\n",
       "<style scoped>\n",
       "    .dataframe tbody tr th:only-of-type {\n",
       "        vertical-align: middle;\n",
       "    }\n",
       "\n",
       "    .dataframe tbody tr th {\n",
       "        vertical-align: top;\n",
       "    }\n",
       "\n",
       "    .dataframe thead th {\n",
       "        text-align: right;\n",
       "    }\n",
       "</style>\n",
       "<table border=\"1\" class=\"dataframe\">\n",
       "  <thead>\n",
       "    <tr style=\"text-align: right;\">\n",
       "      <th></th>\n",
       "      <th>listing_id</th>\n",
       "      <th>id</th>\n",
       "      <th>date</th>\n",
       "      <th>reviewer_id</th>\n",
       "      <th>reviewer_name</th>\n",
       "      <th>comments</th>\n",
       "    </tr>\n",
       "  </thead>\n",
       "  <tbody>\n",
       "    <tr>\n",
       "      <th>0</th>\n",
       "      <td>74641</td>\n",
       "      <td>730893</td>\n",
       "      <td>2011-11-20</td>\n",
       "      <td>933072</td>\n",
       "      <td>Yixi</td>\n",
       "      <td>3036 is a great find. The place is newly renov...</td>\n",
       "    </tr>\n",
       "    <tr>\n",
       "      <th>1</th>\n",
       "      <td>74641</td>\n",
       "      <td>1145534</td>\n",
       "      <td>2012-04-17</td>\n",
       "      <td>2066091</td>\n",
       "      <td>Ryota</td>\n",
       "      <td>Good location, Number lock (24h doorway), Face...</td>\n",
       "    </tr>\n",
       "    <tr>\n",
       "      <th>2</th>\n",
       "      <td>74641</td>\n",
       "      <td>3643432</td>\n",
       "      <td>2013-02-26</td>\n",
       "      <td>438952</td>\n",
       "      <td>Roy</td>\n",
       "      <td>As described, good location, clean and comfort...</td>\n",
       "    </tr>\n",
       "    <tr>\n",
       "      <th>3</th>\n",
       "      <td>74641</td>\n",
       "      <td>3810853</td>\n",
       "      <td>2013-03-17</td>\n",
       "      <td>5370009</td>\n",
       "      <td>Herman</td>\n",
       "      <td>My girlfriend and I spent 5 nights here and it...</td>\n",
       "    </tr>\n",
       "    <tr>\n",
       "      <th>4</th>\n",
       "      <td>74641</td>\n",
       "      <td>4226835</td>\n",
       "      <td>2013-04-20</td>\n",
       "      <td>1989618</td>\n",
       "      <td>Morgan</td>\n",
       "      <td>Our stay in Taipei was amazing, in large part ...</td>\n",
       "    </tr>\n",
       "  </tbody>\n",
       "</table>\n",
       "</div>"
      ],
      "text/plain": [
       "   listing_id       id        date  reviewer_id reviewer_name  \\\n",
       "0       74641   730893  2011-11-20       933072          Yixi   \n",
       "1       74641  1145534  2012-04-17      2066091         Ryota   \n",
       "2       74641  3643432  2013-02-26       438952           Roy   \n",
       "3       74641  3810853  2013-03-17      5370009        Herman   \n",
       "4       74641  4226835  2013-04-20      1989618        Morgan   \n",
       "\n",
       "                                            comments  \n",
       "0  3036 is a great find. The place is newly renov...  \n",
       "1  Good location, Number lock (24h doorway), Face...  \n",
       "2  As described, good location, clean and comfort...  \n",
       "3  My girlfriend and I spent 5 nights here and it...  \n",
       "4  Our stay in Taipei was amazing, in large part ...  "
      ]
     },
     "execution_count": 8,
     "metadata": {},
     "output_type": "execute_result"
    }
   ],
   "source": [
    "# data_reviews\n",
    "print_dataset_info(data_reviews, 'listing_id')\n",
    "data_reviews.head()"
   ]
  },
  {
   "cell_type": "code",
   "execution_count": 9,
   "metadata": {
    "scrolled": true
   },
   "outputs": [
    {
     "name": "stdout",
     "output_type": "stream",
     "text": [
      "2958120 rows of data, 7 columns\n",
      "Index(['listing_id', 'date', 'available', 'price', 'adjusted_price',\n",
      "       'minimum_nights', 'maximum_nights'],\n",
      "      dtype='object')\n",
      "8103 unique listing_id in the data.\n",
      "-----\n"
     ]
    }
   ],
   "source": [
    "# data_calendar\n",
    "print_dataset_info(data_calendar_2020, 'listing_id')\n",
    "print('-----')\n",
    "#print_dataset_info(data_calendar_2019, 'listing_id')"
   ]
  },
  {
   "cell_type": "markdown",
   "metadata": {},
   "source": [
    "### 3. Data Cleaning and Transformation"
   ]
  },
  {
   "cell_type": "code",
   "execution_count": 12,
   "metadata": {},
   "outputs": [],
   "source": [
    "data_calendar_2020['available'] = data_calendar_2020.available.map(lambda x: 1 if x == 't' else 0)\n",
    "data_calendar_2020.date = pd.to_datetime(data_calendar_2020.date)\n",
    "data_calendar_2020['price'] = data_calendar_2020['price'].astype(str).str.replace('$', '').str.replace(',', '').astype(float)\n",
    "\n",
    "calendar = data_calendar_2020.groupby('date')['available', 'price'].mean().reset_index()\n",
    "calendar.rename(columns={'price': 'average_price', 'available': 'vacancy'}, inplace=True)\n",
    "\n",
    "calendar['occupancy'] = (1 - calendar['vacancy']) * 100\n",
    "calendar['dayofweek'] = calendar.date.dt.day_name()\n",
    "calendar['month'] = calendar.date.dt.month"
   ]
  },
  {
   "cell_type": "code",
   "execution_count": 15,
   "metadata": {
    "scrolled": true
   },
   "outputs": [],
   "source": [
    "data_reviews.date = pd.to_datetime(data_reviews.date)\n",
    "data_reviews['year_month'] = pd.to_datetime(data_reviews.date)\n",
    "\n",
    "reviews = data_reviews.groupby(data_reviews['year_month'].dt.to_period('M'))['listing_id'].count()\n",
    "reviews = reviews.resample('M').asfreq().fillna(0)"
   ]
  },
  {
   "cell_type": "markdown",
   "metadata": {},
   "source": [
    "## Q1: 疫情對市場上租屋需求的影響\n",
    "### (1) 綜觀2011-2020/06的review次數，趨勢的改變狀況？\n",
    "前題假設：reviews次數可代表booking次數，Airbnb官方稱有50%的房客會review"
   ]
  },
  {
   "cell_type": "code",
   "execution_count": 16,
   "metadata": {
    "scrolled": true
   },
   "outputs": [
    {
     "data": {
      "text/plain": [
       "Text(0.5, 1.0, ' reviews_count by year_month')"
      ]
     },
     "execution_count": 16,
     "metadata": {},
     "output_type": "execute_result"
    },
    {
     "data": {
      "image/png": "[encoded data removed]",
      "text/plain": [
       "<Figure size 720x288 with 1 Axes>"
      ]
     },
     "metadata": {
      "needs_background": "light"
     },
     "output_type": "display_data"
    }
   ],
   "source": [
    "fig, ax = plt.subplots(ncols=1, nrows=1, figsize=(10, 4), sharey=True)\n",
    "df_index = reviews.index\n",
    "reviews.plot()\n",
    "ax.set_xlabel('Date')\n",
    "ax.set_ylabel('Review Count')\n",
    "ax.set_title(\" {} by {}\".format('reviews_count', 'year_month', fontsize=18, fontweight='bold'))"
   ]
  },
  {
   "cell_type": "markdown",
   "metadata": {},
   "source": [
    "### (2) 哪一個行政區的需求下降最多？"
   ]
  },
  {
   "cell_type": "code",
   "execution_count": 36,
   "metadata": {},
   "outputs": [
    {
     "data": {
      "text/html": [
       "<div>\n",
       "<style scoped>\n",
       "    .dataframe tbody tr th:only-of-type {\n",
       "        vertical-align: middle;\n",
       "    }\n",
       "\n",
       "    .dataframe tbody tr th {\n",
       "        vertical-align: top;\n",
       "    }\n",
       "\n",
       "    .dataframe thead th {\n",
       "        text-align: right;\n",
       "    }\n",
       "</style>\n",
       "<table border=\"1\" class=\"dataframe\">\n",
       "  <thead>\n",
       "    <tr style=\"text-align: right;\">\n",
       "      <th></th>\n",
       "      <th>id</th>\n",
       "    </tr>\n",
       "    <tr>\n",
       "      <th>neighbourhood_cleansed</th>\n",
       "      <th></th>\n",
       "    </tr>\n",
       "  </thead>\n",
       "  <tbody>\n",
       "    <tr>\n",
       "      <th>萬華區</th>\n",
       "      <td>1710</td>\n",
       "    </tr>\n",
       "    <tr>\n",
       "      <th>大安區</th>\n",
       "      <td>1297</td>\n",
       "    </tr>\n",
       "    <tr>\n",
       "      <th>中正區</th>\n",
       "      <td>1296</td>\n",
       "    </tr>\n",
       "    <tr>\n",
       "      <th>中山區</th>\n",
       "      <td>1042</td>\n",
       "    </tr>\n",
       "    <tr>\n",
       "      <th>信義區</th>\n",
       "      <td>809</td>\n",
       "    </tr>\n",
       "    <tr>\n",
       "      <th>大同區</th>\n",
       "      <td>585</td>\n",
       "    </tr>\n",
       "    <tr>\n",
       "      <th>松山區</th>\n",
       "      <td>422</td>\n",
       "    </tr>\n",
       "    <tr>\n",
       "      <th>士林區</th>\n",
       "      <td>276</td>\n",
       "    </tr>\n",
       "    <tr>\n",
       "      <th>北投區</th>\n",
       "      <td>218</td>\n",
       "    </tr>\n",
       "    <tr>\n",
       "      <th>文山區</th>\n",
       "      <td>180</td>\n",
       "    </tr>\n",
       "  </tbody>\n",
       "</table>\n",
       "</div>"
      ],
      "text/plain": [
       "                          id\n",
       "neighbourhood_cleansed      \n",
       "萬華區                     1710\n",
       "大安區                     1297\n",
       "中正區                     1296\n",
       "中山區                     1042\n",
       "信義區                      809\n",
       "大同區                      585\n",
       "松山區                      422\n",
       "士林區                      276\n",
       "北投區                      218\n",
       "文山區                      180"
      ]
     },
     "execution_count": 36,
     "metadata": {},
     "output_type": "execute_result"
    }
   ],
   "source": [
    "data_listings.groupby(by='neighbourhood_cleansed').count()[['id']].sort_values(by='id', ascending=False).head(10)"
   ]
  }
 ],
 "metadata": {
  "kernelspec": {
   "display_name": "Python 3",
   "language": "python",
   "name": "python3"
  },
  "language_info": {
   "codemirror_mode": {
    "name": "ipython",
    "version": 3
   },
   "file_extension": ".py",
   "mimetype": "text/x-python",
   "name": "python",
   "nbconvert_exporter": "python",
   "pygments_lexer": "ipython3",
   "version": "3.8.2"
  }
 },
 "nbformat": 4,
 "nbformat_minor": 2
}
